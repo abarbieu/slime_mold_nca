{
 "cells": [
  {
   "cell_type": "code",
   "execution_count": 36,
   "metadata": {},
   "outputs": [],
   "source": [
    "import configparser\n",
    "import numpy as np\n",
    "import matplotlib.pyplot as plt\n",
    "from importlib import reload\n",
    "import encasm.env\n",
    "reload(encasm.env)\n",
    "from encasm.env import PetriDish\n",
    "import scipy.signal as signal\n",
    "\n",
    "import utils.videowriter\n",
    "reload(utils.videowriter)\n",
    "from utils.videowriter import VideoWriter\n",
    "import encasm\n",
    "reload(encasm)\n",
    "import encasm.eval\n",
    "reload(encasm.eval)\n",
    "from encasm.eval import load_tests\n",
    "\n",
    "data_dir = \"./encasm/example_networks/\"\n",
    "test_envs = load_tests(folder = data_dir)\n",
    "\n",
    "import encasm.env\n",
    "reload(encasm.env)\n",
    "from encasm.env import PetriDish\n",
    "\n",
    "# Loads the config file passed in as a parameter\n",
    "def load_config(config_file):\n",
    "    config = configparser.ConfigParser()\n",
    "    config.read(config_file)\n",
    "    return config\n",
    "\n",
    "test_env = PetriDish.from_config_file(\"test\", \"./encasm/configs/default_config.ini\")"
   ]
  },
  {
   "cell_type": "code",
   "execution_count": 37,
   "metadata": {},
   "outputs": [],
   "source": [
    "# applies a 2d convolution to the grid using scipy and the given kernel\n",
    "def convolve(grid, kernel):\n",
    "    return signal.convolve2d(grid, kernel, mode='same', boundary='fill', fillvalue=0)\n",
    "    \n",
    "def diffuse(r,l):\n",
    "    l = l>0 # convert to boolean in case it isn't\n",
    "\n",
    "    kernel = np.array([[0,1,0],[1,0,1],[0,1,0]], dtype=np.float32)\n",
    "    # plt.matshow(r)\n",
    "    # plt.colorbar()\n",
    "    # print(r.sum())\n",
    "    free_cells = (r<0.7) & l # A free cell is alive and isn't full of nutrients\n",
    "    sources = r > 0.7 # purely cells that are full\n",
    "\n",
    "    # How large of an area could a cell's resevoir flow to\n",
    "    flow_area = convolve(free_cells, kernel) * l\n",
    "    flow_area[l] += 1 # every cell includes itself\n",
    "\n",
    "    # Nonzero just avoids divide by zero, this is just 5/flow_area * r, which is the adjusted nutrients \n",
    "    # to \"bounce back\" diffusion off of full cells and voids\n",
    "    to_diff = np.divide(5., flow_area, out=np.zeros_like(r), where=flow_area!=0) * r\n",
    "\n",
    "    kernel[1,1] = 1\n",
    "    kernel = kernel * 0.2\n",
    "    sinks = convolve(to_diff, kernel) * free_cells # sinks serve as sources to other sinks too\n",
    "\n",
    "\n",
    "    # creates an array where free_cells have the value of sinks and sources have the value of to_diff * 0.2\n",
    "    diffused = np.zeros_like(r)\n",
    "    diffused[free_cells] = sinks[free_cells]\n",
    "    diffused[sources] = to_diff[sources] * 0.2\n",
    "    # plt.matshow(diffused)\n",
    "    # plt.colorbar()\n",
    "    # print(diffused.sum())\n",
    "    return diffused"
   ]
  },
  {
   "cell_type": "code",
   "execution_count": 38,
   "metadata": {},
   "outputs": [],
   "source": [
    "# tenv = PetriDish.from_env(\"tenv\", test_envs[\"small\"]['3']['1'])\n",
    "# tenv.resv += tenv.food\n",
    "\n",
    "# an 8 by 8 array representing an elbow bend road of life\n",
    "l = np.array([[0,1,1],\n",
    "              [0,1,1],\n",
    "              [0,1,0]], dtype=np.float32)\n",
    "r = np.array([[0,1,1],\n",
    "              [0,1,0],\n",
    "              [0,0,0]], dtype=np.float32)\n",
    "\n",
    "l = l>0 # convert to boolean in case it isn't"
   ]
  },
  {
   "cell_type": "code",
   "execution_count": 46,
   "metadata": {},
   "outputs": [
    {
     "name": "stdout",
     "output_type": "stream",
     "text": [
      "6746.241156988327\n"
     ]
    }
   ],
   "source": [
    "tenv = PetriDish.from_env(\"tenv\", test_envs[\"large\"]['6']['3'])\n",
    "\n",
    "# Records a video of diffusion in tenv\n",
    "with VideoWriter(filename=\"./encasm/results/diffusion.mp4\", fps=10) as vid:\n",
    "    for i in range(1000):\n",
    "        tenv.resv += tenv.food * 0.2\n",
    "        tenv.resv = np.clip(tenv.resv, 0, 3)\n",
    "        tenv.resv = diffuse(tenv.resv, tenv.life)\n",
    "        # sets 10% of all life cells to 0\n",
    "        # tenv.resv[tenv.life.nonzero()] *= np.random.rand(*tenv.life[tenv.life.nonzero()].shape) > 0.001\n",
    "        if i%20 == 0:\n",
    "            vid.add_concat_grids([tenv.resv, tenv.life], size=750, cmaps = ['hot', 'hot'], cols=2)\n",
    "            # vid.add_concat_grids([tenv.life,tenv.food,tenv.resv], cmaps=[\"copper\", \"hot\", \"viridis\"], cols = 2)\n",
    "    print(tenv.resv.sum())"
   ]
  },
  {
   "cell_type": "code",
   "execution_count": null,
   "metadata": {},
   "outputs": [],
   "source": []
  }
 ],
 "metadata": {
  "kernelspec": {
   "display_name": "Python 3.8.13 ('tf_2.4.0')",
   "language": "python",
   "name": "python3"
  },
  "language_info": {
   "codemirror_mode": {
    "name": "ipython",
    "version": 3
   },
   "file_extension": ".py",
   "mimetype": "text/x-python",
   "name": "python",
   "nbconvert_exporter": "python",
   "pygments_lexer": "ipython3",
   "version": "3.8.13"
  },
  "orig_nbformat": 4,
  "vscode": {
   "interpreter": {
    "hash": "5592904bc02381d742d8677a7dee9dfad432ddb320dbe6e668ed13d03d50aa2a"
   }
  }
 },
 "nbformat": 4,
 "nbformat_minor": 2
}
