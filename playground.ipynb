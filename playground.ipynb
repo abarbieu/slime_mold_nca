{
 "cells": [
  {
   "cell_type": "code",
   "execution_count": 1,
   "metadata": {},
   "outputs": [],
   "source": [
    "import re\n",
    "import os\n",
    "import json\n",
    "from encasm.env import CAEnvironment"
   ]
  },
  {
   "cell_type": "code",
   "execution_count": 4,
   "metadata": {},
   "outputs": [],
   "source": [
    "def get_env_shape(folder):\n",
    "    # Reads the metadata.json file in the given folder and returns the shape of the environment\n",
    "    with open(folder + '/metadata.json') as f:\n",
    "        data = json.load(f)\n",
    "        return data['shape']\n",
    "\n",
    "\n",
    "def load_envs(folder, shape):\n",
    "    # Loads folder into a dictonary of environments of the given shape\n",
    "\n",
    "    patt = \"F_(\\d+)(-L_(\\d+))?.png\"\n",
    "    food_maps = {}  # food map index -> food map filename\n",
    "    life_maps = {}  # food map index -> (life map index -> filename)\n",
    "\n",
    "    for entry in os.scandir(path=os.fsencode(folder)):\n",
    "        if entry.name.endswith(b\".png\"):\n",
    "            mtch = re.search(patt, str(entry.name))\n",
    "            if mtch is not None:\n",
    "                grps = mtch.groups()\n",
    "\n",
    "                # If food map index is not in the lifemap dictionary, add it\n",
    "                if grps[0] not in life_maps:\n",
    "                    life_maps[grps[0]] = {}\n",
    "                # If the life map index is not None, add its contents to the life map dictionary\n",
    "                if grps[2] is not None:\n",
    "                    life_maps[grps[0]][grps[2]] = entry.path.decode()\n",
    "                # If the food map index is not None, add its contents to the food map dictionary\n",
    "                elif grps[0] is not None:\n",
    "                    if grps[0] not in food_maps:\n",
    "                        food_maps[grps[0]] = entry.path.decode()\n",
    "    envs = {}\n",
    "    for fmap_k in food_maps.keys():\n",
    "        envs[fmap_k] = {}\n",
    "        for lmap_k in life_maps[fmap_k].keys():\n",
    "            env = CAEnvironment(\n",
    "                id=f\"test_{shape[0]}x{shape[1]}_F_{fmap_k}-L_{lmap_k}\")\n",
    "            env.update_shape(shape)\n",
    "            env.set_channel(env.food_i, food_maps[fmap_k])\n",
    "            env.set_channel(env.life_i, life_maps[fmap_k][lmap_k])\n",
    "            envs[fmap_k][lmap_k] = env\n",
    "    return envs\n",
    "\n",
    "\n",
    "def load_tests(folder):\n",
    "    # Walks through the subfolders, gathers their metadata, and adds their environments\n",
    "    # to a dictionary whose key is the metadata title\n",
    "    tests = {}\n",
    "    for entry in os.scandir(path=os.fsencode(folder)):\n",
    "        if entry.is_dir():\n",
    "            shape = get_env_shape(entry.path.decode())\n",
    "            tests[entry.name.decode()] = load_envs(entry.path.decode(), shape)"
   ]
  },
  {
   "cell_type": "code",
   "execution_count": 5,
   "metadata": {},
   "outputs": [
    {
     "ename": "TypeError",
     "evalue": "__init__() got an unexpected keyword argument 'id'",
     "output_type": "error",
     "traceback": [
      "\u001b[0;31m---------------------------------------------------------------------------\u001b[0m",
      "\u001b[0;31mTypeError\u001b[0m                                 Traceback (most recent call last)",
      "Cell \u001b[0;32mIn [5], line 1\u001b[0m\n\u001b[0;32m----> 1\u001b[0m load_tests(\u001b[39m\"\u001b[39;49m\u001b[39m./data/mold_test_imgs/\u001b[39;49m\u001b[39m\"\u001b[39;49m)\n",
      "Cell \u001b[0;32mIn [4], line 51\u001b[0m, in \u001b[0;36mload_tests\u001b[0;34m(folder)\u001b[0m\n\u001b[1;32m     49\u001b[0m \u001b[39mif\u001b[39;00m entry\u001b[39m.\u001b[39mis_dir():\n\u001b[1;32m     50\u001b[0m     shape \u001b[39m=\u001b[39m get_env_shape(entry\u001b[39m.\u001b[39mpath\u001b[39m.\u001b[39mdecode())\n\u001b[0;32m---> 51\u001b[0m     tests[entry\u001b[39m.\u001b[39mname\u001b[39m.\u001b[39mdecode()] \u001b[39m=\u001b[39m load_envs(entry\u001b[39m.\u001b[39;49mpath\u001b[39m.\u001b[39;49mdecode(), shape)\n",
      "Cell \u001b[0;32mIn [4], line 35\u001b[0m, in \u001b[0;36mload_envs\u001b[0;34m(folder, shape)\u001b[0m\n\u001b[1;32m     33\u001b[0m envs[fmap_k] \u001b[39m=\u001b[39m {}\n\u001b[1;32m     34\u001b[0m \u001b[39mfor\u001b[39;00m lmap_k \u001b[39min\u001b[39;00m life_maps[fmap_k]\u001b[39m.\u001b[39mkeys():\n\u001b[0;32m---> 35\u001b[0m     env \u001b[39m=\u001b[39m CAEnvironment(\n\u001b[1;32m     36\u001b[0m         \u001b[39mid\u001b[39;49m\u001b[39m=\u001b[39;49m\u001b[39mf\u001b[39;49m\u001b[39m\"\u001b[39;49m\u001b[39mtest_\u001b[39;49m\u001b[39m{\u001b[39;49;00mshape[\u001b[39m0\u001b[39;49m]\u001b[39m}\u001b[39;49;00m\u001b[39mx\u001b[39;49m\u001b[39m{\u001b[39;49;00mshape[\u001b[39m1\u001b[39;49m]\u001b[39m}\u001b[39;49;00m\u001b[39m_F_\u001b[39;49m\u001b[39m{\u001b[39;49;00mfmap_k\u001b[39m}\u001b[39;49;00m\u001b[39m-L_\u001b[39;49m\u001b[39m{\u001b[39;49;00mlmap_k\u001b[39m}\u001b[39;49;00m\u001b[39m\"\u001b[39;49m)\n\u001b[1;32m     37\u001b[0m     env\u001b[39m.\u001b[39mupdate_shape(shape)\n\u001b[1;32m     38\u001b[0m     env\u001b[39m.\u001b[39mset_channel(env\u001b[39m.\u001b[39mfood_i, food_maps[fmap_k])\n",
      "\u001b[0;31mTypeError\u001b[0m: __init__() got an unexpected keyword argument 'id'"
     ]
    }
   ],
   "source": [
    "load_tests(\"./data/mold_test_imgs/\")"
   ]
  },
  {
   "cell_type": "code",
   "execution_count": null,
   "metadata": {},
   "outputs": [],
   "source": [
    "import configparser\n",
    "\n",
    "# Loads the config file passed in as a parameter\n",
    "def load_config(config_file):\n",
    "    config = configparser.ConfigParser()\n",
    "    config.read(config_file)\n",
    "    return config"
   ]
  },
  {
   "cell_type": "code",
   "execution_count": 8,
   "metadata": {},
   "outputs": [],
   "source": [
    "import numpy as np\n",
    "import matplotlib.pyplot as plt"
   ]
  },
  {
   "cell_type": "code",
   "execution_count": 20,
   "metadata": {},
   "outputs": [
    {
     "data": {
      "text/plain": [
       "3"
      ]
     },
     "execution_count": 20,
     "metadata": {},
     "output_type": "execute_result"
    }
   ],
   "source": [
    "def f(a: int = 1, b: int = 2):\n",
    "    return a + b\n",
    "f()"
   ]
  }
 ],
 "metadata": {
  "kernelspec": {
   "display_name": "Python 3.8.13 ('tf_2.4.0')",
   "language": "python",
   "name": "python3"
  },
  "language_info": {
   "codemirror_mode": {
    "name": "ipython",
    "version": 3
   },
   "file_extension": ".py",
   "mimetype": "text/x-python",
   "name": "python",
   "nbconvert_exporter": "python",
   "pygments_lexer": "ipython3",
   "version": "3.8.13"
  },
  "orig_nbformat": 4,
  "vscode": {
   "interpreter": {
    "hash": "5592904bc02381d742d8677a7dee9dfad432ddb320dbe6e668ed13d03d50aa2a"
   }
  }
 },
 "nbformat": 4,
 "nbformat_minor": 2
}
