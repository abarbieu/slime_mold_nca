{
 "cells": [
  {
   "cell_type": "code",
   "execution_count": 201,
   "metadata": {},
   "outputs": [],
   "source": [
    "import os\n",
    "import io\n",
    "import PIL.Image, PIL.ImageDraw\n",
    "import base64\n",
    "import zipfile\n",
    "import json\n",
    "import requests\n",
    "\n",
    "\n",
    "import matplotlib.pylab as pl\n",
    "import time\n",
    "import matplotlib.cm as cm\n",
    "import matplotlib as mpl\n",
    "import sys\n",
    "import glob\n",
    "import matplotlib.pyplot as plt\n",
    "import numpy.ma as ma\n",
    "# import mistree as mist\n",
    "from matplotlib import colors\n",
    "import math\n",
    "import importlib\n",
    "import environment\n",
    "\n",
    "import tensorflow as tf\n",
    "\n",
    "from IPython.display import Video, Image, HTML, clear_output\n",
    "import tqdm\n",
    "\n",
    "import os\n",
    "os.environ['FFMPEG_BINARY'] = 'ffmpeg'\n",
    "import moviepy.editor as mvp\n",
    "from moviepy.video.io.ffmpeg_writer import FFMPEG_VideoWriter\n",
    "\n",
    "clear_output()\n"
   ]
  },
  {
   "cell_type": "code",
   "execution_count": 1,
   "metadata": {},
   "outputs": [],
   "source": [
    "import numpy as np\n",
    "import nevopy as ne\n",
    "from IPython.display import Video\n",
    "\n",
    "from graphics import gen_vid\n",
    "from settings import settings\n",
    "import environment\n"
   ]
  },
  {
   "cell_type": "code",
   "execution_count": null,
   "metadata": {},
   "outputs": [],
   "source": [
    "s = settings()\n"
   ]
  },
  {
   "cell_type": "code",
   "execution_count": 181,
   "metadata": {},
   "outputs": [],
   "source": [
    "# ----- Neighborhood/Channel Parameters ----- \n",
    "moore_f = (np.array([ 1,  1,  1,  0,  0,  -1, -1, -1]),\n",
    "           np.array([-1,  0,  1, -1,  1,  -1,  0,  1])) # Moore neigh indices\n",
    "\n",
    "von_n = (np.array([-1,  0,  0, 1]),\n",
    "         np.array([ 0, -1,  1,  0])) # Von Neumann neighborhood indices\n",
    "\n",
    "moore_f = (np.array([ 1,  1,  1,  0,  0,  0,  -1, -1, -1]),\n",
    "           np.array([-1,  0,  1, -1,  0,  1,  -1,  0,  1])) # Includes center\n",
    "\n",
    "von_n_f = (np.array([-1,  0,  0,  0, 1]),\n",
    "           np.array([ 0, -1,  0,  1,  0])) # Includes center\n",
    "\n",
    "KERNEL = von_n\n",
    "KERNEL_F = von_n_f\n",
    "N_NEIGHS = len(KERNEL[0])\n",
    "N_HIDDEN = 4\n",
    "N_CHANNELS = 3 + N_HIDDEN # Number of channels per cell\n",
    "\n",
    "LIFE = 0 # Index into channel\n",
    "FOOD = 1 # Index into channel\n",
    "RESV = 2\n",
    "HIDDEN = 3 # Index of first hidden channel\n",
    "\n",
    "# ----- Environment -----\n",
    "ESIZE = 32 # width/height of the environment\n",
    "ENV_SHAPE=(N_CHANNELS,ESIZE,ESIZE)\n",
    "CUT_SHAPE = (ESIZE-2, ESIZE-2)\n",
    "INDS = np.arange(0,CUT_SHAPE[0]*CUT_SHAPE[1])\n",
    "\n",
    "# Lévy dust parameters (for distributing food)\n",
    "ALPHA = 1. # 1.2 # Slope of the power law, to play with\n",
    "BETA =  0.6 # 0.3 # Minimum step size of flight, to play with\n",
    "FOOD_AMOUNT = 16 # Number of points created, they stack on each other\n",
    "MAX_FOOD = 4\n",
    "\n",
    "# ----- NN Attributes -----\n",
    "# TODO: explore larger perceptive fields? sobel filters?\n",
    "INPUT_SHAPE = (1 + N_NEIGHS) * N_CHANNELS # Center + neighs, all channels\n",
    "OUTPUT_SHAPE = N_NEIGHS + N_HIDDEN # Center Life, resv from neighs, hidden channels for center\n",
    "\n",
    "# ----- Physical Constraints -----\n",
    "LIFE_COST = 0.3 # How much life is depleted per time step\n",
    "MIN_LIFE = 0.1 # Life below this is treated as dead\n",
    "LIFE_TRANSFER_RATE = 0.2 # Amount of food transferrable by 1 unit of life\n",
    "FOOD_TRANSFER_RATE =  1 # Amount of life transferrable by 1 unit of food"
   ]
  },
  {
   "cell_type": "code",
   "execution_count": 182,
   "metadata": {},
   "outputs": [],
   "source": []
  },
  {
   "cell_type": "code",
   "execution_count": 183,
   "metadata": {},
   "outputs": [],
   "source": [
    "class constraints:\n",
    "  def __init__(self):\n",
    "    self.life_cost=LIFE_COST\n",
    "    self.min_life = MIN_LIFE\n",
    "    self.life_transfer_rate=LIFE_TRANSFER_RATE\n",
    "    self.food_transfer_rate=FOOD_TRANSFER_RATE\n",
    "    self.max_life=1.\n",
    "\n",
    "default_constraints = constraints()"
   ]
  },
  {
   "cell_type": "code",
   "execution_count": 184,
   "metadata": {},
   "outputs": [],
   "source": [
    "#@title Old physics\n",
    "'''\n",
    "  - Life increases from food first (anywhere in neigh?)\n",
    "  - Increase ^ is proportional to food val\n",
    "  - Life drains from neigh life otherwise\n",
    "  - Life decreases by DEATH_RATE every time step \n",
    "  - Only TRANSFER_RATE life can be drained from any one neighbor\n",
    "  - \n",
    "'''\n",
    "def apply_physics(center, neighs, desires, constraints=default_constraints):\n",
    "  con=constraints\n",
    "  if neighs[LIFE].sum() > 0 or center[LIFE] > 0:\n",
    "    center[HIDDEN:] = desires[N_NEIGHS:]\n",
    "    center[LIFE] += con.food_transfer_rate * center[FOOD] # Life appears on nearby food\n",
    "    center[LIFE] = min(center[LIFE],con.max_life)\n",
    "\n",
    "    if center[LIFE] > con.min_life or sum(desires[:N_NEIGHS]) > 0.1:\n",
    "      # Neighbor's life will change by at most what they can transfer\n",
    "      delta_neigh = np.minimum(con.life_transfer_rate * neighs[LIFE],desires[:N_NEIGHS])\n",
    "      delta_center = sum(delta_neigh)\n",
    "      # A cell can only hold 1 unit of life\n",
    "      adj = min(delta_center, (con.max_life-center[LIFE]))/delta_center\n",
    "      neighs[LIFE] -= delta_neigh * adj\n",
    "      center[LIFE] += delta_center * adj\n",
    "\n",
    "    center[LIFE] -= center[LIFE] * con.life_cost\n",
    "    center[LIFE] = min(center[LIFE],con.max_life)\n",
    "    if center[LIFE] <= con.min_life:\n",
    "      center[LIFE] = 0"
   ]
  },
  {
   "cell_type": "code",
   "execution_count": 185,
   "metadata": {},
   "outputs": [
    {
     "data": {
      "image/png": "[encoded data removed]",
      "text/plain": [
       "<Figure size 640x480 with 2 Axes>"
      ]
     },
     "metadata": {},
     "output_type": "display_data"
    },
    {
     "name": "stdout",
     "output_type": "stream",
     "text": [
      "AFTER\n"
     ]
    },
    {
     "data": {
      "image/png": "[encoded data removed]",
      "text/plain": [
       "<Figure size 640x480 with 2 Axes>"
      ]
     },
     "metadata": {},
     "output_type": "display_data"
    }
   ],
   "source": [
    "#@title Slime mold env tests\n",
    "# Test create new cell that is less than sum\n",
    "# channel 1 is food, channel 2 is life\n",
    "env1 = np.zeros((N_CHANNELS,ESIZE,ESIZE))\n",
    "env1[FOOD, 5:8,3:6] =  np.array([[0,0,0],\n",
    "                                  [0,0,0],\n",
    "                                  [0,0,0]])\n",
    "\n",
    "env1[LIFE,5:8,3:6] = np.array([[0,0,0],\n",
    "                                [0,0,0],\n",
    "                                [0,1,0]])\n",
    "desire = np.arange(N_NEIGHS + N_HIDDEN)\n",
    "desire[1:1+N_NEIGHS] = [1,1,1,1]\n",
    "desire[LIFE] = 1\n",
    "\n",
    "# for i in range(3):\n",
    "#   apply_constraints(env1[:,6,4], env1[:,KERNEL[0] + 6, KERNEL[1] + 4], desire)\n",
    "ch_plot(env1[:,4:9,2:7],LIFE)\n",
    "print(\"AFTER\")\n",
    "apply_physics(env1[:,6,4], env1[:,KERNEL[0] + 6, KERNEL[1] + 4], desire)\n",
    "ch_plot(env1[:,4:9,2:7],LIFE)"
   ]
  },
  {
   "cell_type": "code",
   "execution_count": 191,
   "metadata": {},
   "outputs": [
    {
     "data": {
      "image/png": "[encoded data removed]",
      "text/plain": [
       "<Figure size 640x480 with 2 Axes>"
      ]
     },
     "metadata": {},
     "output_type": "display_data"
    }
   ],
   "source": [
    "def gen_padded_env(shape=(ESIZE,ESIZE), pad=1, points=FOOD_AMOUNT, alpha=ALPHA, beta=BETA, food_scaler=1):\n",
    "    env = np.zeros((N_CHANNELS, shape[0], shape[1])) # TODO: Randomize initial grid?\n",
    "\n",
    "    dust = levy_dust.get_levy_dust((shape[0]-pad*2, shape[1]-pad*2), points, alpha, beta).T\n",
    "    dust = np.array(dust, dtype=np.int64)\n",
    "    dust, density = np.unique(dust, axis=0, return_counts=True)\n",
    "\n",
    "    env[FOOD,dust[:,0]+1,dust[:,1]+1] = density\n",
    "    return env\n",
    "\n",
    "# Innoculate the cell with the most food - this is likely to be surrounded \n",
    "# by more food given def of levy dust\n",
    "def innoculate_env(env):\n",
    "  maxfood = np.unravel_index(np.argmax(env[FOOD]), env[FOOD].shape)\n",
    "  env[LIFE][maxfood[0],maxfood[1]] = 1\n",
    "  return env\n",
    "\n",
    "env=gen_padded_env(points=32, alpha=1, beta=1)\n",
    "ch_plot(env, FOOD)"
   ]
  },
  {
   "cell_type": "code",
   "execution_count": 187,
   "metadata": {},
   "outputs": [],
   "source": [
    "#@title Tester Agents\n",
    "class RandomAgent:\n",
    "    def reset(self):\n",
    "        pass\n",
    "\n",
    "    def process(self, x):\n",
    "        # y = np.random.randint(2)\n",
    "        return np.random.rand(OUTPUT_SHAPE)\n",
    "\n",
    "class LameAgent:\n",
    "    def __init__(self,mult):\n",
    "      self.mult=mult\n",
    "\n",
    "    def reset(self):\n",
    "        pass\n",
    "    def process(self, x):\n",
    "        # y = np.random.randint(2)\n",
    "        y=np.zeros(OUTPUT_SHAPE)\n",
    "        y[:N_NEIGHS] += [self.mult,self.mult,self.mult,self.mult]\n",
    "        return y "
   ]
  },
  {
   "cell_type": "code",
   "execution_count": 188,
   "metadata": {},
   "outputs": [],
   "source": [
    "#@title Apply agent to environmet\n",
    "\n",
    "def add_frame(frames, env):\n",
    "  fframe = ch_image(env,FOOD, cmap=cm.copper)\n",
    "  lframe = ch_image(env,LIFE, cmap=cm.gray)\n",
    "  frame = np.append(fframe,lframe, axis=0)\n",
    "  if frames is None:\n",
    "    frames = np.array([frame])\n",
    "  else:\n",
    "    frames = np.append(frames, [frame], axis=0)\n",
    "  return frames\n",
    "\n",
    "def add_frames(frames, new_frames):\n",
    "  if new_frames is not None and len(new_frames) > 0:\n",
    "    if frames is None:\n",
    "      frames = new_frames\n",
    "    else:\n",
    "      frames = np.append(frames, new_frames,axis=0)\n",
    "  return frames\n",
    "\n",
    "# Stochastically applies agent to every alive cell\n",
    "def apply_agent(agent, env, gen_frames=False, vid_speed=10, constraints=default_constraints):\n",
    "  np.random.shuffle(INDS)\n",
    "  coords = np.unravel_index(INDS, CUT_SHAPE)\n",
    "  frames = None\n",
    "\n",
    "  total_steps = 0\n",
    "  # start one index in, the list is 2 short so it will stop with one to go\n",
    "  for i,j in zip(coords[0]+1,coords[1]+1): \n",
    "    input = env[:,KERNEL_F[0]+i,KERNEL_F[1]+j]\n",
    "    if input[LIFE].sum() > 0:\n",
    "      desires = agent.process(input.flatten())\n",
    "      apply_physics(env[:,i,j],env[:,KERNEL[0]+i,KERNEL[1]+j], desires, constraints=constraints)\n",
    "\n",
    "      if gen_frames and vid_speed < 10 and total_steps%(math.pow(2,vid_speed)) == 0:\n",
    "        frames = add_frame(frames,env)\n",
    "    \n",
    "      total_steps += 1\n",
    "\n",
    "  if gen_frames:\n",
    "    frames = add_frame(frames, env)\n",
    "\n",
    "  return frames\n",
    "\n",
    "# Vid speed of 10 generates a frame for every full application of an agent\n",
    "def apply_agent_n(agent, env, n=10, apply_until_dead=False, gen_frames=False, vid_speed=10, constraints=constraints):\n",
    "  frames=None\n",
    "  i=0\n",
    "  fitness = 0\n",
    "  running=True\n",
    "  # tot_delta=0\n",
    "  while running:\n",
    "    temp_frames = apply_agent(agent, env, gen_frames, vid_speed, constraints=constraints)\n",
    "    if gen_frames:\n",
    "      frames = add_frames(frames,temp_frames)\n",
    "\n",
    "    if apply_until_dead:\n",
    "      running = env[LIFE].sum() > 0 \n",
    "    else:\n",
    "      running = i<n\n",
    "    i+=1\n",
    "  return frames"
   ]
  },
  {
   "cell_type": "code",
   "execution_count": 198,
   "metadata": {},
   "outputs": [
    {
     "data": {
      "image/png": "[encoded data removed]",
      "text/plain": [
       "<Figure size 640x480 with 2 Axes>"
      ]
     },
     "metadata": {},
     "output_type": "display_data"
    },
    {
     "data": {
      "image/png": "[encoded data removed]",
      "text/plain": [
       "<Figure size 640x480 with 2 Axes>"
      ]
     },
     "metadata": {},
     "output_type": "display_data"
    }
   ],
   "source": [
    "test_env = gen_padded_env(points=15, alpha=1., beta=1.)\n",
    "test_env = innoculate_env(test_env)\n",
    "ch_plot(test_env,FOOD)\n",
    "ch_plot(test_env,LIFE)\n",
    "# imshow(zoom(ch_image(test_env,FOOD),16))\n",
    "# imshow(zoom(ch_image(test_env,LIFE, cmap = cm.cool),16))\n",
    "agent=RandomAgent()\n",
    "# np.unravel_index(np.argmax(test_env[LIFE]),test_env.shape)"
   ]
  },
  {
   "cell_type": "code",
   "execution_count": 199,
   "metadata": {},
   "outputs": [
    {
     "data": {
      "text/html": [
       "<video src=\"test.mp4\" controls  >\n",
       "      Your browser does not support the <code>video</code> element.\n",
       "    </video>"
      ],
      "text/plain": [
       "<IPython.core.display.Video object>"
      ]
     },
     "execution_count": 199,
     "metadata": {},
     "output_type": "execute_result"
    }
   ],
   "source": [
    "my_cons = constraints()\n",
    "my_cons.min_life = 0.1\n",
    "my_cons.food_transfer_rate = 0.5\n",
    "my_cons.life_cost = 0.35\n",
    "my_cons.life_transfer_rate = .3\n",
    "my_cons.max_life = 10.0\n",
    "\n",
    "frames = apply_agent_n(RandomAgent(), np.copy(test_env), n=50, gen_frames=True, vid_speed=8, constraints=my_cons)\n",
    "# mvp.ipython_display(gen_vid(frames))\n",
    "Video(gen_vid(frames))"
   ]
  },
  {
   "cell_type": "code",
   "execution_count": null,
   "metadata": {},
   "outputs": [],
   "source": []
  }
 ],
 "metadata": {
  "kernelspec": {
   "display_name": "Python 3.8.13 ('tf_2.4.0')",
   "language": "python",
   "name": "python3"
  },
  "language_info": {
   "codemirror_mode": {
    "name": "ipython",
    "version": 3
   },
   "file_extension": ".py",
   "mimetype": "text/x-python",
   "name": "python",
   "nbconvert_exporter": "python",
   "pygments_lexer": "ipython3",
   "version": "3.8.13"
  },
  "orig_nbformat": 4,
  "vscode": {
   "interpreter": {
    "hash": "5592904bc02381d742d8677a7dee9dfad432ddb320dbe6e668ed13d03d50aa2a"
   }
  }
 },
 "nbformat": 4,
 "nbformat_minor": 2
}
