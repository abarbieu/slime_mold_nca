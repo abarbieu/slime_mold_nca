{
  "cells": [
    {
      "cell_type": "markdown",
      "metadata": {
        "id": "O6SiuPD-Wh0B"
      },
      "source": [
        "# Learning the XOR logic function with NEAT\n",
        "\n",
        "In this example, we're going to use [*NEvoPy's*](https://github.com/Talendar/nevopy) implementation of the NeuroEvolution of Augmenting Topologies (NEAT) algorithm to learn the XOR logic function (with 2 or more variables). Let's start by installing the package using *pip*:\n",
        "\n",
        "(if you're on Google Colab, you might need to restart the notebook's runtime after the installation is complete)"
      ]
    },
    {
      "cell_type": "code",
      "execution_count": null,
      "metadata": {
        "id": "k6ZJnx46pX-d"
      },
      "outputs": [],
      "source": [
        "!pip install nevopy"
      ]
    },
    {
      "cell_type": "markdown",
      "metadata": {
        "id": "LYyDFYvOfI3Q"
      },
      "source": [
        "Importing the necessary modules:"
      ]
    },
    {
      "cell_type": "code",
      "execution_count": 1,
      "metadata": {
        "id": "3DQtMaC-fM9U"
      },
      "outputs": [],
      "source": [
        "import nevopy as ne\n",
        "import numpy as np"
      ]
    },
    {
      "cell_type": "markdown",
      "metadata": {
        "id": "OmcruzlaYu0X"
      },
      "source": [
        "Now, let's build our dataset. Fortunately, *NEvoPy* has a utility function that takes care of this for us, so it shouldn't be too much work. We will start by using only 2 variables, but you can run experiments with larger numbers later."
      ]
    },
    {
      "cell_type": "code",
      "execution_count": 2,
      "metadata": {
        "colab": {
          "base_uri": "https://localhost:8080/"
        },
        "id": "BYpqt83wptGa",
        "outputId": "bb3e0c06-ab76-4b6a-8ce3-4f3877b09446"
      },
      "outputs": [
        {
          "name": "stdout",
          "output_type": "stream",
          "text": [
            "[0 0] -> 0\n",
            "[0 1] -> 1\n",
            "[1 0] -> 1\n",
            "[1 1] -> 0\n"
          ]
        }
      ],
      "source": [
        "# building the dataset\n",
        "xor_inputs, xor_outputs = ne.utils.make_xor_data(2)\n",
        "\n",
        "# visualizing\n",
        "for x, y in zip(xor_inputs, xor_outputs):\n",
        "    print(f\"{x} -> {y}\")"
      ]
    },
    {
      "cell_type": "markdown",
      "metadata": {
        "id": "ZIp37HoFbEjL"
      },
      "source": [
        "We must now define a *fitness function*. In the context of evolutionary computing, a fitness function (also known as *evaluation function*) evaluates how close a given solution is to the optimum solution of the desired problem. In our specific case, it will be used to evaluate how well our neural networks (genomes) are in predicting the output of the XOR function.\n",
        "\n",
        "Our fitness function must take a genome as input and return the genome's fitness as output. The greater a genome fitness is, the higher are its chances of leaving offspring. To measure the fitness we'll be using the inverse of the squared error."
      ]
    },
    {
      "cell_type": "code",
      "execution_count": 4,
      "metadata": {
        "id": "oM20neX8bA0E"
      },
      "outputs": [],
      "source": [
        "def fitness_function(genome, log=False):\n",
        "    \"\"\" Implementation of the fitness function we're going to use.\n",
        "\n",
        "    It simply feeds the XOR inputs to the given genome and calculates how well\n",
        "    it did (based on the squared error).\n",
        "    \"\"\"\n",
        "    # Shuffling the input, in order to prevent our networks from memorizing the\n",
        "    # sequence of the answers.\n",
        "    idx = np.random.permutation(len(xor_inputs))\n",
        "    \n",
        "    error = 0\n",
        "    for x, y in zip(xor_inputs[idx], xor_outputs[idx]):\n",
        "        # Resetting the cached activations of the genome (optional).\n",
        "        genome.reset()\n",
        "\n",
        "        # Feeding the input to the genome. A numpy array with the value \n",
        "        # predicted by the neural network is returned.\n",
        "        h = genome.process(x)[0]\n",
        "\n",
        "        # Calculating the squared error.\n",
        "        error += (y - h) ** 2\n",
        "\n",
        "        if log:\n",
        "            print(f\"IN: {x}  |  OUT: {h:.4f}  |  TARGET: {y}\")\n",
        "\n",
        "    if log:\n",
        "        print(f\"\\nError: {error}\")\n",
        "\n",
        "    return (1 / error) if error > 0 else 0"
      ]
    },
    {
      "cell_type": "markdown",
      "metadata": {
        "id": "471QsOcNeoTG"
      },
      "source": [
        "Now, let's test our fitness function with a \"random agent\":"
      ]
    },
    {
      "cell_type": "code",
      "execution_count": 5,
      "metadata": {
        "colab": {
          "base_uri": "https://localhost:8080/"
        },
        "id": "YeFpnVdYet0T",
        "outputId": "ef6bac8b-fb98-460f-9afc-6c5dd6061927"
      },
      "outputs": [
        {
          "name": "stdout",
          "output_type": "stream",
          "text": [
            "IN: [0 1]  |  OUT: 0.0000  |  TARGET: 1\n",
            "IN: [1 0]  |  OUT: 1.0000  |  TARGET: 1\n",
            "IN: [0 0]  |  OUT: 0.0000  |  TARGET: 0\n",
            "IN: [1 1]  |  OUT: 1.0000  |  TARGET: 0\n",
            "\n",
            "Error: 2\n",
            "Fitness: 0.500000\n"
          ]
        }
      ],
      "source": [
        "class RandomAgent:\n",
        "    def reset(self):\n",
        "        pass\n",
        "\n",
        "    def process(self, x):\n",
        "        y = np.random.randint(2)\n",
        "        return np.array([y])\n",
        "\n",
        "v = fitness_function(RandomAgent(), log=True)\n",
        "print(f\"Fitness: {v:2f}\")"
      ]
    },
    {
      "cell_type": "markdown",
      "metadata": {
        "id": "GfSIMuR8hP4n"
      },
      "source": [
        "Ok, it's neuroevolution time! Let's start by creating a new population of genomes to be evolved with NEAT. \n",
        "\n",
        "In this example, we will be using the default settings. If you want to try different settings, you can pass an instance of [NeatConfig](https://nevopy.readthedocs.io/en/latest/nevopy.neat.html#nevopy.neat.config.NeatConfig) to the population's constructor."
      ]
    },
    {
      "cell_type": "code",
      "execution_count": 6,
      "metadata": {
        "id": "Fy6z69kchO97"
      },
      "outputs": [],
      "source": [
        "population = ne.neat.NeatPopulation(\n",
        "    size=200,                       # number of genomes in the population\n",
        "    num_inputs=len(xor_inputs[0]),  # number of input nodes in the genomes\n",
        "    num_outputs=1,                  # number of output nodes in the genomes\n",
        ")"
      ]
    },
    {
      "cell_type": "markdown",
      "metadata": {
        "id": "kyW3lD2CiP2C"
      },
      "source": [
        "Now, let's evolve the population. The `history` variable will contain useful statistics about the evolutionary process."
      ]
    },
    {
      "cell_type": "code",
      "execution_count": 7,
      "metadata": {
        "colab": {
          "base_uri": "https://localhost:8080/"
        },
        "id": "5YSRxi39iOlj",
        "outputId": "575b0ec1-85d0-4fad-d0c0-19d7462a5530"
      },
      "outputs": [
        {
          "name": "stdout",
          "output_type": "stream",
          "text": [
            "\n",
            "[1.56%] Generation 1 of 64.\n",
            ". Calculating fitness (last: 0.00E+00)... "
          ]
        },
        {
          "name": "stderr",
          "output_type": "stream",
          "text": [
            "Process SpawnPoolWorker-1:\n",
            "Process SpawnPoolWorker-2:\n",
            "Process SpawnPoolWorker-3:\n",
            "Process SpawnPoolWorker-4:\n",
            "Process SpawnPoolWorker-5:\n",
            "Process SpawnPoolWorker-6:\n",
            "Process SpawnPoolWorker-7:\n",
            "Process SpawnPoolWorker-8:\n",
            "Traceback (most recent call last):\n",
            "Traceback (most recent call last):\n",
            "Traceback (most recent call last):\n",
            "  File \"/Users/aidanbarbieux/opt/anaconda3/envs/tf_2.4.0/lib/python3.8/multiprocessing/process.py\", line 315, in _bootstrap\n",
            "    self.run()\n",
            "Traceback (most recent call last):\n",
            "  File \"/Users/aidanbarbieux/opt/anaconda3/envs/tf_2.4.0/lib/python3.8/multiprocessing/process.py\", line 315, in _bootstrap\n",
            "    self.run()\n",
            "  File \"/Users/aidanbarbieux/opt/anaconda3/envs/tf_2.4.0/lib/python3.8/multiprocessing/process.py\", line 315, in _bootstrap\n",
            "    self.run()\n",
            "  File \"/Users/aidanbarbieux/opt/anaconda3/envs/tf_2.4.0/lib/python3.8/multiprocessing/process.py\", line 315, in _bootstrap\n",
            "    self.run()\n",
            "Traceback (most recent call last):\n",
            "  File \"/Users/aidanbarbieux/opt/anaconda3/envs/tf_2.4.0/lib/python3.8/multiprocessing/process.py\", line 108, in run\n",
            "    self._target(*self._args, **self._kwargs)\n",
            "  File \"/Users/aidanbarbieux/opt/anaconda3/envs/tf_2.4.0/lib/python3.8/multiprocessing/pool.py\", line 114, in worker\n",
            "    task = get()\n",
            "  File \"/Users/aidanbarbieux/opt/anaconda3/envs/tf_2.4.0/lib/python3.8/multiprocessing/queues.py\", line 358, in get\n",
            "    return _ForkingPickler.loads(res)\n",
            "  File \"/Users/aidanbarbieux/opt/anaconda3/envs/tf_2.4.0/lib/python3.8/multiprocessing/process.py\", line 108, in run\n",
            "    self._target(*self._args, **self._kwargs)\n",
            "  File \"/Users/aidanbarbieux/opt/anaconda3/envs/tf_2.4.0/lib/python3.8/multiprocessing/pool.py\", line 114, in worker\n",
            "    task = get()\n",
            "  File \"/Users/aidanbarbieux/opt/anaconda3/envs/tf_2.4.0/lib/python3.8/multiprocessing/queues.py\", line 358, in get\n",
            "    return _ForkingPickler.loads(res)\n",
            "  File \"/Users/aidanbarbieux/opt/anaconda3/envs/tf_2.4.0/lib/python3.8/multiprocessing/process.py\", line 108, in run\n",
            "    self._target(*self._args, **self._kwargs)\n",
            "  File \"/Users/aidanbarbieux/opt/anaconda3/envs/tf_2.4.0/lib/python3.8/multiprocessing/process.py\", line 315, in _bootstrap\n",
            "    self.run()\n",
            "AttributeError: Can't get attribute 'fitness_function' on <module '__main__' (built-in)>\n",
            "AttributeError: Can't get attribute 'fitness_function' on <module '__main__' (built-in)>\n",
            "  File \"/Users/aidanbarbieux/opt/anaconda3/envs/tf_2.4.0/lib/python3.8/multiprocessing/process.py\", line 108, in run\n",
            "    self._target(*self._args, **self._kwargs)\n",
            "  File \"/Users/aidanbarbieux/opt/anaconda3/envs/tf_2.4.0/lib/python3.8/multiprocessing/pool.py\", line 114, in worker\n",
            "    task = get()\n",
            "  File \"/Users/aidanbarbieux/opt/anaconda3/envs/tf_2.4.0/lib/python3.8/multiprocessing/queues.py\", line 358, in get\n",
            "    return _ForkingPickler.loads(res)\n",
            "AttributeError: Can't get attribute 'fitness_function' on <module '__main__' (built-in)>\n",
            "Traceback (most recent call last):\n",
            "  File \"/Users/aidanbarbieux/opt/anaconda3/envs/tf_2.4.0/lib/python3.8/multiprocessing/process.py\", line 315, in _bootstrap\n",
            "    self.run()\n",
            "  File \"/Users/aidanbarbieux/opt/anaconda3/envs/tf_2.4.0/lib/python3.8/multiprocessing/process.py\", line 108, in run\n",
            "    self._target(*self._args, **self._kwargs)\n",
            "  File \"/Users/aidanbarbieux/opt/anaconda3/envs/tf_2.4.0/lib/python3.8/multiprocessing/pool.py\", line 114, in worker\n",
            "    task = get()\n",
            "  File \"/Users/aidanbarbieux/opt/anaconda3/envs/tf_2.4.0/lib/python3.8/multiprocessing/queues.py\", line 358, in get\n",
            "    return _ForkingPickler.loads(res)\n",
            "AttributeError: Can't get attribute 'fitness_function' on <module '__main__' (built-in)>\n",
            "Traceback (most recent call last):\n",
            "  File \"/Users/aidanbarbieux/opt/anaconda3/envs/tf_2.4.0/lib/python3.8/multiprocessing/process.py\", line 315, in _bootstrap\n",
            "    self.run()\n",
            "  File \"/Users/aidanbarbieux/opt/anaconda3/envs/tf_2.4.0/lib/python3.8/multiprocessing/process.py\", line 108, in run\n",
            "    self._target(*self._args, **self._kwargs)\n",
            "  File \"/Users/aidanbarbieux/opt/anaconda3/envs/tf_2.4.0/lib/python3.8/multiprocessing/pool.py\", line 114, in worker\n",
            "    task = get()\n",
            "  File \"/Users/aidanbarbieux/opt/anaconda3/envs/tf_2.4.0/lib/python3.8/multiprocessing/queues.py\", line 358, in get\n",
            "    return _ForkingPickler.loads(res)\n",
            "Traceback (most recent call last):\n",
            "AttributeError: Can't get attribute 'fitness_function' on <module '__main__' (built-in)>\n",
            "  File \"/Users/aidanbarbieux/opt/anaconda3/envs/tf_2.4.0/lib/python3.8/multiprocessing/process.py\", line 315, in _bootstrap\n",
            "    self.run()\n",
            "  File \"/Users/aidanbarbieux/opt/anaconda3/envs/tf_2.4.0/lib/python3.8/multiprocessing/process.py\", line 108, in run\n",
            "    self._target(*self._args, **self._kwargs)\n",
            "  File \"/Users/aidanbarbieux/opt/anaconda3/envs/tf_2.4.0/lib/python3.8/multiprocessing/pool.py\", line 114, in worker\n",
            "    task = get()\n",
            "  File \"/Users/aidanbarbieux/opt/anaconda3/envs/tf_2.4.0/lib/python3.8/multiprocessing/queues.py\", line 358, in get\n",
            "    return _ForkingPickler.loads(res)\n",
            "AttributeError: Can't get attribute 'fitness_function' on <module '__main__' (built-in)>\n",
            "  File \"/Users/aidanbarbieux/opt/anaconda3/envs/tf_2.4.0/lib/python3.8/multiprocessing/process.py\", line 108, in run\n",
            "    self._target(*self._args, **self._kwargs)\n",
            "  File \"/Users/aidanbarbieux/opt/anaconda3/envs/tf_2.4.0/lib/python3.8/multiprocessing/pool.py\", line 114, in worker\n",
            "    task = get()\n",
            "  File \"/Users/aidanbarbieux/opt/anaconda3/envs/tf_2.4.0/lib/python3.8/multiprocessing/queues.py\", line 358, in get\n",
            "    return _ForkingPickler.loads(res)\n",
            "AttributeError: Can't get attribute 'fitness_function' on <module '__main__' (built-in)>\n",
            "  File \"/Users/aidanbarbieux/opt/anaconda3/envs/tf_2.4.0/lib/python3.8/multiprocessing/pool.py\", line 114, in worker\n",
            "    task = get()\n",
            "  File \"/Users/aidanbarbieux/opt/anaconda3/envs/tf_2.4.0/lib/python3.8/multiprocessing/queues.py\", line 358, in get\n",
            "    return _ForkingPickler.loads(res)\n",
            "AttributeError: Can't get attribute 'fitness_function' on <module '__main__' (built-in)>\n",
            "Process SpawnPoolWorker-9:\n",
            "Traceback (most recent call last):\n",
            "  File \"/Users/aidanbarbieux/opt/anaconda3/envs/tf_2.4.0/lib/python3.8/multiprocessing/process.py\", line 315, in _bootstrap\n",
            "    self.run()\n",
            "  File \"/Users/aidanbarbieux/opt/anaconda3/envs/tf_2.4.0/lib/python3.8/multiprocessing/process.py\", line 108, in run\n",
            "    self._target(*self._args, **self._kwargs)\n",
            "  File \"/Users/aidanbarbieux/opt/anaconda3/envs/tf_2.4.0/lib/python3.8/multiprocessing/pool.py\", line 114, in worker\n",
            "    task = get()\n",
            "  File \"/Users/aidanbarbieux/opt/anaconda3/envs/tf_2.4.0/lib/python3.8/multiprocessing/queues.py\", line 358, in get\n",
            "    return _ForkingPickler.loads(res)\n",
            "AttributeError: Can't get attribute 'fitness_function' on <module '__main__' (built-in)>\n",
            "Process SpawnPoolWorker-11:\n",
            "Traceback (most recent call last):\n",
            "  File \"/Users/aidanbarbieux/opt/anaconda3/envs/tf_2.4.0/lib/python3.8/multiprocessing/process.py\", line 315, in _bootstrap\n",
            "    self.run()\n",
            "  File \"/Users/aidanbarbieux/opt/anaconda3/envs/tf_2.4.0/lib/python3.8/multiprocessing/process.py\", line 108, in run\n",
            "    self._target(*self._args, **self._kwargs)\n",
            "  File \"/Users/aidanbarbieux/opt/anaconda3/envs/tf_2.4.0/lib/python3.8/multiprocessing/pool.py\", line 114, in worker\n",
            "    task = get()\n",
            "  File \"/Users/aidanbarbieux/opt/anaconda3/envs/tf_2.4.0/lib/python3.8/multiprocessing/queues.py\", line 358, in get\n",
            "    return _ForkingPickler.loads(res)\n",
            "AttributeError: Can't get attribute 'fitness_function' on <module '__main__' (built-in)>\n",
            "Process SpawnPoolWorker-10:\n",
            "Traceback (most recent call last):\n",
            "  File \"/Users/aidanbarbieux/opt/anaconda3/envs/tf_2.4.0/lib/python3.8/multiprocessing/process.py\", line 315, in _bootstrap\n",
            "    self.run()\n",
            "  File \"/Users/aidanbarbieux/opt/anaconda3/envs/tf_2.4.0/lib/python3.8/multiprocessing/process.py\", line 108, in run\n",
            "    self._target(*self._args, **self._kwargs)\n",
            "  File \"/Users/aidanbarbieux/opt/anaconda3/envs/tf_2.4.0/lib/python3.8/multiprocessing/pool.py\", line 114, in worker\n",
            "    task = get()\n",
            "  File \"/Users/aidanbarbieux/opt/anaconda3/envs/tf_2.4.0/lib/python3.8/multiprocessing/queues.py\", line 358, in get\n",
            "    return _ForkingPickler.loads(res)\n",
            "AttributeError: Can't get attribute 'fitness_function' on <module '__main__' (built-in)>\n",
            "Process SpawnPoolWorker-13:\n",
            "Traceback (most recent call last):\n",
            "  File \"/Users/aidanbarbieux/opt/anaconda3/envs/tf_2.4.0/lib/python3.8/multiprocessing/process.py\", line 315, in _bootstrap\n",
            "    self.run()\n",
            "  File \"/Users/aidanbarbieux/opt/anaconda3/envs/tf_2.4.0/lib/python3.8/multiprocessing/process.py\", line 108, in run\n",
            "    self._target(*self._args, **self._kwargs)\n",
            "  File \"/Users/aidanbarbieux/opt/anaconda3/envs/tf_2.4.0/lib/python3.8/multiprocessing/pool.py\", line 114, in worker\n",
            "    task = get()\n",
            "  File \"/Users/aidanbarbieux/opt/anaconda3/envs/tf_2.4.0/lib/python3.8/multiprocessing/queues.py\", line 358, in get\n",
            "    return _ForkingPickler.loads(res)\n",
            "AttributeError: Can't get attribute 'fitness_function' on <module '__main__' (built-in)>\n",
            "Process SpawnPoolWorker-14:\n",
            "Traceback (most recent call last):\n",
            "  File \"/Users/aidanbarbieux/opt/anaconda3/envs/tf_2.4.0/lib/python3.8/multiprocessing/process.py\", line 315, in _bootstrap\n",
            "    self.run()\n",
            "  File \"/Users/aidanbarbieux/opt/anaconda3/envs/tf_2.4.0/lib/python3.8/multiprocessing/process.py\", line 108, in run\n",
            "    self._target(*self._args, **self._kwargs)\n",
            "  File \"/Users/aidanbarbieux/opt/anaconda3/envs/tf_2.4.0/lib/python3.8/multiprocessing/pool.py\", line 114, in worker\n",
            "    task = get()\n",
            "  File \"/Users/aidanbarbieux/opt/anaconda3/envs/tf_2.4.0/lib/python3.8/multiprocessing/queues.py\", line 358, in get\n",
            "    return _ForkingPickler.loads(res)\n",
            "AttributeError: Can't get attribute 'fitness_function' on <module '__main__' (built-in)>\n",
            "Process SpawnPoolWorker-15:\n",
            "Traceback (most recent call last):\n",
            "  File \"/Users/aidanbarbieux/opt/anaconda3/envs/tf_2.4.0/lib/python3.8/multiprocessing/process.py\", line 315, in _bootstrap\n",
            "    self.run()\n",
            "  File \"/Users/aidanbarbieux/opt/anaconda3/envs/tf_2.4.0/lib/python3.8/multiprocessing/process.py\", line 108, in run\n",
            "    self._target(*self._args, **self._kwargs)\n",
            "  File \"/Users/aidanbarbieux/opt/anaconda3/envs/tf_2.4.0/lib/python3.8/multiprocessing/pool.py\", line 114, in worker\n",
            "    task = get()\n",
            "  File \"/Users/aidanbarbieux/opt/anaconda3/envs/tf_2.4.0/lib/python3.8/multiprocessing/queues.py\", line 358, in get\n",
            "    return _ForkingPickler.loads(res)\n",
            "AttributeError: Can't get attribute 'fitness_function' on <module '__main__' (built-in)>\n",
            "Process SpawnPoolWorker-17:\n",
            "Process SpawnPoolWorker-12:\n",
            "Traceback (most recent call last):\n",
            "  File \"/Users/aidanbarbieux/opt/anaconda3/envs/tf_2.4.0/lib/python3.8/multiprocessing/process.py\", line 315, in _bootstrap\n",
            "    self.run()\n",
            "  File \"/Users/aidanbarbieux/opt/anaconda3/envs/tf_2.4.0/lib/python3.8/multiprocessing/process.py\", line 108, in run\n",
            "    self._target(*self._args, **self._kwargs)\n",
            "  File \"/Users/aidanbarbieux/opt/anaconda3/envs/tf_2.4.0/lib/python3.8/multiprocessing/pool.py\", line 114, in worker\n",
            "    task = get()\n",
            "  File \"/Users/aidanbarbieux/opt/anaconda3/envs/tf_2.4.0/lib/python3.8/multiprocessing/queues.py\", line 358, in get\n",
            "    return _ForkingPickler.loads(res)\n",
            "AttributeError: Can't get attribute 'fitness_function' on <module '__main__' (built-in)>\n",
            "Traceback (most recent call last):\n",
            "  File \"/Users/aidanbarbieux/opt/anaconda3/envs/tf_2.4.0/lib/python3.8/multiprocessing/process.py\", line 315, in _bootstrap\n",
            "    self.run()\n",
            "  File \"/Users/aidanbarbieux/opt/anaconda3/envs/tf_2.4.0/lib/python3.8/multiprocessing/process.py\", line 108, in run\n",
            "    self._target(*self._args, **self._kwargs)\n",
            "  File \"/Users/aidanbarbieux/opt/anaconda3/envs/tf_2.4.0/lib/python3.8/multiprocessing/pool.py\", line 114, in worker\n",
            "    task = get()\n",
            "  File \"/Users/aidanbarbieux/opt/anaconda3/envs/tf_2.4.0/lib/python3.8/multiprocessing/queues.py\", line 358, in get\n",
            "    return _ForkingPickler.loads(res)\n",
            "AttributeError: Can't get attribute 'fitness_function' on <module '__main__' (built-in)>\n",
            "Process SpawnPoolWorker-16:\n",
            "Traceback (most recent call last):\n",
            "  File \"/Users/aidanbarbieux/opt/anaconda3/envs/tf_2.4.0/lib/python3.8/multiprocessing/process.py\", line 315, in _bootstrap\n",
            "    self.run()\n",
            "  File \"/Users/aidanbarbieux/opt/anaconda3/envs/tf_2.4.0/lib/python3.8/multiprocessing/process.py\", line 108, in run\n",
            "    self._target(*self._args, **self._kwargs)\n",
            "  File \"/Users/aidanbarbieux/opt/anaconda3/envs/tf_2.4.0/lib/python3.8/multiprocessing/pool.py\", line 114, in worker\n",
            "    task = get()\n",
            "  File \"/Users/aidanbarbieux/opt/anaconda3/envs/tf_2.4.0/lib/python3.8/multiprocessing/queues.py\", line 358, in get\n",
            "    return _ForkingPickler.loads(res)\n",
            "AttributeError: Can't get attribute 'fitness_function' on <module '__main__' (built-in)>\n",
            "Process SpawnPoolWorker-18:\n",
            "Traceback (most recent call last):\n",
            "  File \"/Users/aidanbarbieux/opt/anaconda3/envs/tf_2.4.0/lib/python3.8/multiprocessing/process.py\", line 315, in _bootstrap\n",
            "    self.run()\n",
            "  File \"/Users/aidanbarbieux/opt/anaconda3/envs/tf_2.4.0/lib/python3.8/multiprocessing/process.py\", line 108, in run\n",
            "    self._target(*self._args, **self._kwargs)\n",
            "  File \"/Users/aidanbarbieux/opt/anaconda3/envs/tf_2.4.0/lib/python3.8/multiprocessing/pool.py\", line 114, in worker\n",
            "    task = get()\n",
            "  File \"/Users/aidanbarbieux/opt/anaconda3/envs/tf_2.4.0/lib/python3.8/multiprocessing/queues.py\", line 358, in get\n",
            "    return _ForkingPickler.loads(res)\n",
            "AttributeError: Can't get attribute 'fitness_function' on <module '__main__' (built-in)>\n",
            "Process SpawnPoolWorker-19:\n",
            "Traceback (most recent call last):\n",
            "  File \"/Users/aidanbarbieux/opt/anaconda3/envs/tf_2.4.0/lib/python3.8/multiprocessing/process.py\", line 315, in _bootstrap\n",
            "    self.run()\n",
            "  File \"/Users/aidanbarbieux/opt/anaconda3/envs/tf_2.4.0/lib/python3.8/multiprocessing/process.py\", line 108, in run\n",
            "    self._target(*self._args, **self._kwargs)\n",
            "  File \"/Users/aidanbarbieux/opt/anaconda3/envs/tf_2.4.0/lib/python3.8/multiprocessing/pool.py\", line 114, in worker\n",
            "    task = get()\n",
            "  File \"/Users/aidanbarbieux/opt/anaconda3/envs/tf_2.4.0/lib/python3.8/multiprocessing/queues.py\", line 358, in get\n",
            "    return _ForkingPickler.loads(res)\n",
            "AttributeError: Can't get attribute 'fitness_function' on <module '__main__' (built-in)>\n",
            "Process SpawnPoolWorker-20:\n",
            "Traceback (most recent call last):\n",
            "  File \"/Users/aidanbarbieux/opt/anaconda3/envs/tf_2.4.0/lib/python3.8/multiprocessing/process.py\", line 315, in _bootstrap\n",
            "    self.run()\n",
            "  File \"/Users/aidanbarbieux/opt/anaconda3/envs/tf_2.4.0/lib/python3.8/multiprocessing/process.py\", line 108, in run\n",
            "    self._target(*self._args, **self._kwargs)\n",
            "  File \"/Users/aidanbarbieux/opt/anaconda3/envs/tf_2.4.0/lib/python3.8/multiprocessing/pool.py\", line 114, in worker\n",
            "    task = get()\n",
            "  File \"/Users/aidanbarbieux/opt/anaconda3/envs/tf_2.4.0/lib/python3.8/multiprocessing/queues.py\", line 358, in get\n",
            "    return _ForkingPickler.loads(res)\n",
            "AttributeError: Can't get attribute 'fitness_function' on <module '__main__' (built-in)>\n",
            "Process SpawnPoolWorker-21:\n",
            "Traceback (most recent call last):\n",
            "  File \"/Users/aidanbarbieux/opt/anaconda3/envs/tf_2.4.0/lib/python3.8/multiprocessing/process.py\", line 315, in _bootstrap\n",
            "    self.run()\n",
            "  File \"/Users/aidanbarbieux/opt/anaconda3/envs/tf_2.4.0/lib/python3.8/multiprocessing/process.py\", line 108, in run\n",
            "    self._target(*self._args, **self._kwargs)\n",
            "  File \"/Users/aidanbarbieux/opt/anaconda3/envs/tf_2.4.0/lib/python3.8/multiprocessing/pool.py\", line 114, in worker\n",
            "    task = get()\n",
            "  File \"/Users/aidanbarbieux/opt/anaconda3/envs/tf_2.4.0/lib/python3.8/multiprocessing/queues.py\", line 358, in get\n",
            "    return _ForkingPickler.loads(res)\n",
            "AttributeError: Can't get attribute 'fitness_function' on <module '__main__' (built-in)>\n",
            "Process SpawnPoolWorker-22:\n",
            "Traceback (most recent call last):\n",
            "  File \"/Users/aidanbarbieux/opt/anaconda3/envs/tf_2.4.0/lib/python3.8/multiprocessing/process.py\", line 315, in _bootstrap\n",
            "    self.run()\n",
            "  File \"/Users/aidanbarbieux/opt/anaconda3/envs/tf_2.4.0/lib/python3.8/multiprocessing/process.py\", line 108, in run\n",
            "    self._target(*self._args, **self._kwargs)\n",
            "  File \"/Users/aidanbarbieux/opt/anaconda3/envs/tf_2.4.0/lib/python3.8/multiprocessing/pool.py\", line 114, in worker\n",
            "    task = get()\n",
            "  File \"/Users/aidanbarbieux/opt/anaconda3/envs/tf_2.4.0/lib/python3.8/multiprocessing/queues.py\", line 358, in get\n",
            "    return _ForkingPickler.loads(res)\n",
            "AttributeError: Can't get attribute 'fitness_function' on <module '__main__' (built-in)>\n",
            "Process SpawnPoolWorker-23:\n",
            "Traceback (most recent call last):\n",
            "  File \"/Users/aidanbarbieux/opt/anaconda3/envs/tf_2.4.0/lib/python3.8/multiprocessing/process.py\", line 315, in _bootstrap\n",
            "    self.run()\n",
            "  File \"/Users/aidanbarbieux/opt/anaconda3/envs/tf_2.4.0/lib/python3.8/multiprocessing/process.py\", line 108, in run\n",
            "    self._target(*self._args, **self._kwargs)\n",
            "  File \"/Users/aidanbarbieux/opt/anaconda3/envs/tf_2.4.0/lib/python3.8/multiprocessing/pool.py\", line 114, in worker\n",
            "    task = get()\n",
            "  File \"/Users/aidanbarbieux/opt/anaconda3/envs/tf_2.4.0/lib/python3.8/multiprocessing/queues.py\", line 358, in get\n",
            "    return _ForkingPickler.loads(res)\n",
            "AttributeError: Can't get attribute 'fitness_function' on <module '__main__' (built-in)>\n",
            "Process SpawnPoolWorker-24:\n",
            "Traceback (most recent call last):\n",
            "  File \"/Users/aidanbarbieux/opt/anaconda3/envs/tf_2.4.0/lib/python3.8/multiprocessing/process.py\", line 315, in _bootstrap\n",
            "    self.run()\n",
            "  File \"/Users/aidanbarbieux/opt/anaconda3/envs/tf_2.4.0/lib/python3.8/multiprocessing/process.py\", line 108, in run\n",
            "    self._target(*self._args, **self._kwargs)\n",
            "  File \"/Users/aidanbarbieux/opt/anaconda3/envs/tf_2.4.0/lib/python3.8/multiprocessing/pool.py\", line 114, in worker\n",
            "    task = get()\n",
            "  File \"/Users/aidanbarbieux/opt/anaconda3/envs/tf_2.4.0/lib/python3.8/multiprocessing/queues.py\", line 358, in get\n",
            "    return _ForkingPickler.loads(res)\n",
            "AttributeError: Can't get attribute 'fitness_function' on <module '__main__' (built-in)>\n",
            "Process SpawnPoolWorker-25:\n",
            "Traceback (most recent call last):\n",
            "  File \"/Users/aidanbarbieux/opt/anaconda3/envs/tf_2.4.0/lib/python3.8/multiprocessing/process.py\", line 315, in _bootstrap\n",
            "    self.run()\n",
            "  File \"/Users/aidanbarbieux/opt/anaconda3/envs/tf_2.4.0/lib/python3.8/multiprocessing/process.py\", line 108, in run\n",
            "    self._target(*self._args, **self._kwargs)\n",
            "  File \"/Users/aidanbarbieux/opt/anaconda3/envs/tf_2.4.0/lib/python3.8/multiprocessing/pool.py\", line 114, in worker\n",
            "    task = get()\n",
            "  File \"/Users/aidanbarbieux/opt/anaconda3/envs/tf_2.4.0/lib/python3.8/multiprocessing/queues.py\", line 358, in get\n",
            "    return _ForkingPickler.loads(res)\n",
            "AttributeError: Can't get attribute 'fitness_function' on <module '__main__' (built-in)>\n",
            "Process SpawnPoolWorker-26:\n",
            "Traceback (most recent call last):\n",
            "  File \"/Users/aidanbarbieux/opt/anaconda3/envs/tf_2.4.0/lib/python3.8/multiprocessing/process.py\", line 315, in _bootstrap\n",
            "    self.run()\n",
            "  File \"/Users/aidanbarbieux/opt/anaconda3/envs/tf_2.4.0/lib/python3.8/multiprocessing/process.py\", line 108, in run\n",
            "    self._target(*self._args, **self._kwargs)\n",
            "  File \"/Users/aidanbarbieux/opt/anaconda3/envs/tf_2.4.0/lib/python3.8/multiprocessing/pool.py\", line 114, in worker\n",
            "    task = get()\n",
            "  File \"/Users/aidanbarbieux/opt/anaconda3/envs/tf_2.4.0/lib/python3.8/multiprocessing/queues.py\", line 358, in get\n",
            "    return _ForkingPickler.loads(res)\n",
            "AttributeError: Can't get attribute 'fitness_function' on <module '__main__' (built-in)>\n",
            "Process SpawnPoolWorker-27:\n",
            "Traceback (most recent call last):\n",
            "  File \"/Users/aidanbarbieux/opt/anaconda3/envs/tf_2.4.0/lib/python3.8/multiprocessing/process.py\", line 315, in _bootstrap\n",
            "    self.run()\n",
            "  File \"/Users/aidanbarbieux/opt/anaconda3/envs/tf_2.4.0/lib/python3.8/multiprocessing/process.py\", line 108, in run\n",
            "    self._target(*self._args, **self._kwargs)\n",
            "  File \"/Users/aidanbarbieux/opt/anaconda3/envs/tf_2.4.0/lib/python3.8/multiprocessing/pool.py\", line 114, in worker\n",
            "    task = get()\n",
            "  File \"/Users/aidanbarbieux/opt/anaconda3/envs/tf_2.4.0/lib/python3.8/multiprocessing/queues.py\", line 358, in get\n",
            "    return _ForkingPickler.loads(res)\n",
            "AttributeError: Can't get attribute 'fitness_function' on <module '__main__' (built-in)>\n",
            "Process SpawnPoolWorker-28:\n",
            "Traceback (most recent call last):\n",
            "  File \"/Users/aidanbarbieux/opt/anaconda3/envs/tf_2.4.0/lib/python3.8/multiprocessing/process.py\", line 315, in _bootstrap\n",
            "    self.run()\n",
            "  File \"/Users/aidanbarbieux/opt/anaconda3/envs/tf_2.4.0/lib/python3.8/multiprocessing/process.py\", line 108, in run\n",
            "    self._target(*self._args, **self._kwargs)\n",
            "  File \"/Users/aidanbarbieux/opt/anaconda3/envs/tf_2.4.0/lib/python3.8/multiprocessing/pool.py\", line 114, in worker\n",
            "    task = get()\n",
            "  File \"/Users/aidanbarbieux/opt/anaconda3/envs/tf_2.4.0/lib/python3.8/multiprocessing/queues.py\", line 358, in get\n",
            "    return _ForkingPickler.loads(res)\n",
            "AttributeError: Can't get attribute 'fitness_function' on <module '__main__' (built-in)>\n",
            "Process SpawnPoolWorker-29:\n",
            "Traceback (most recent call last):\n",
            "  File \"/Users/aidanbarbieux/opt/anaconda3/envs/tf_2.4.0/lib/python3.8/multiprocessing/process.py\", line 315, in _bootstrap\n",
            "    self.run()\n",
            "  File \"/Users/aidanbarbieux/opt/anaconda3/envs/tf_2.4.0/lib/python3.8/multiprocessing/process.py\", line 108, in run\n",
            "    self._target(*self._args, **self._kwargs)\n",
            "  File \"/Users/aidanbarbieux/opt/anaconda3/envs/tf_2.4.0/lib/python3.8/multiprocessing/pool.py\", line 114, in worker\n",
            "    task = get()\n",
            "  File \"/Users/aidanbarbieux/opt/anaconda3/envs/tf_2.4.0/lib/python3.8/multiprocessing/queues.py\", line 358, in get\n",
            "    return _ForkingPickler.loads(res)\n",
            "AttributeError: Can't get attribute 'fitness_function' on <module '__main__' (built-in)>\n",
            "Process SpawnPoolWorker-36:\n",
            "Process SpawnPoolWorker-32:\n",
            "Process SpawnPoolWorker-37:\n",
            "Process SpawnPoolWorker-31:\n",
            "Process SpawnPoolWorker-30:\n",
            "Process SpawnPoolWorker-35:\n",
            "Traceback (most recent call last):\n",
            "  File \"/Users/aidanbarbieux/opt/anaconda3/envs/tf_2.4.0/lib/python3.8/multiprocessing/process.py\", line 315, in _bootstrap\n",
            "    self.run()\n",
            "Traceback (most recent call last):\n",
            "  File \"/Users/aidanbarbieux/opt/anaconda3/envs/tf_2.4.0/lib/python3.8/multiprocessing/process.py\", line 315, in _bootstrap\n",
            "    self.run()\n",
            "  File \"/Users/aidanbarbieux/opt/anaconda3/envs/tf_2.4.0/lib/python3.8/multiprocessing/process.py\", line 108, in run\n",
            "    self._target(*self._args, **self._kwargs)\n",
            "  File \"/Users/aidanbarbieux/opt/anaconda3/envs/tf_2.4.0/lib/python3.8/multiprocessing/pool.py\", line 114, in worker\n",
            "    task = get()\n",
            "  File \"/Users/aidanbarbieux/opt/anaconda3/envs/tf_2.4.0/lib/python3.8/multiprocessing/queues.py\", line 355, in get\n",
            "    with self._rlock:\n",
            "  File \"/Users/aidanbarbieux/opt/anaconda3/envs/tf_2.4.0/lib/python3.8/multiprocessing/synchronize.py\", line 95, in __enter__\n",
            "    return self._semlock.__enter__()\n",
            "  File \"/Users/aidanbarbieux/opt/anaconda3/envs/tf_2.4.0/lib/python3.8/multiprocessing/process.py\", line 108, in run\n",
            "    self._target(*self._args, **self._kwargs)\n",
            "  File \"/Users/aidanbarbieux/opt/anaconda3/envs/tf_2.4.0/lib/python3.8/multiprocessing/pool.py\", line 114, in worker\n",
            "    task = get()\n",
            "  File \"/Users/aidanbarbieux/opt/anaconda3/envs/tf_2.4.0/lib/python3.8/multiprocessing/queues.py\", line 355, in get\n",
            "    with self._rlock:\n",
            "  File \"/Users/aidanbarbieux/opt/anaconda3/envs/tf_2.4.0/lib/python3.8/multiprocessing/synchronize.py\", line 95, in __enter__\n",
            "    return self._semlock.__enter__()\n",
            "KeyboardInterrupt\n",
            "KeyboardInterrupt\n",
            "Process SpawnPoolWorker-33:\n",
            "Traceback (most recent call last):\n",
            "  File \"/Users/aidanbarbieux/opt/anaconda3/envs/tf_2.4.0/lib/python3.8/multiprocessing/process.py\", line 315, in _bootstrap\n",
            "    self.run()\n",
            "  File \"/Users/aidanbarbieux/opt/anaconda3/envs/tf_2.4.0/lib/python3.8/multiprocessing/process.py\", line 108, in run\n",
            "    self._target(*self._args, **self._kwargs)\n",
            "  File \"/Users/aidanbarbieux/opt/anaconda3/envs/tf_2.4.0/lib/python3.8/multiprocessing/pool.py\", line 114, in worker\n",
            "    task = get()\n",
            "  File \"/Users/aidanbarbieux/opt/anaconda3/envs/tf_2.4.0/lib/python3.8/multiprocessing/queues.py\", line 355, in get\n",
            "    with self._rlock:\n",
            "  File \"/Users/aidanbarbieux/opt/anaconda3/envs/tf_2.4.0/lib/python3.8/multiprocessing/synchronize.py\", line 95, in __enter__\n",
            "    return self._semlock.__enter__()\n",
            "KeyboardInterrupt\n",
            "Process SpawnPoolWorker-34:\n",
            "Traceback (most recent call last):\n",
            "Traceback (most recent call last):\n",
            "  File \"/Users/aidanbarbieux/opt/anaconda3/envs/tf_2.4.0/lib/python3.8/multiprocessing/process.py\", line 315, in _bootstrap\n",
            "    self.run()\n",
            "  File \"/Users/aidanbarbieux/opt/anaconda3/envs/tf_2.4.0/lib/python3.8/multiprocessing/process.py\", line 108, in run\n",
            "    self._target(*self._args, **self._kwargs)\n",
            "  File \"/Users/aidanbarbieux/opt/anaconda3/envs/tf_2.4.0/lib/python3.8/multiprocessing/pool.py\", line 114, in worker\n",
            "    task = get()\n",
            "  File \"/Users/aidanbarbieux/opt/anaconda3/envs/tf_2.4.0/lib/python3.8/multiprocessing/queues.py\", line 356, in get\n",
            "    res = self._reader.recv_bytes()\n",
            "  File \"/Users/aidanbarbieux/opt/anaconda3/envs/tf_2.4.0/lib/python3.8/multiprocessing/connection.py\", line 216, in recv_bytes\n",
            "    buf = self._recv_bytes(maxlength)\n",
            "  File \"/Users/aidanbarbieux/opt/anaconda3/envs/tf_2.4.0/lib/python3.8/multiprocessing/connection.py\", line 414, in _recv_bytes\n",
            "    buf = self._recv(4)\n",
            "  File \"/Users/aidanbarbieux/opt/anaconda3/envs/tf_2.4.0/lib/python3.8/multiprocessing/connection.py\", line 379, in _recv\n",
            "    chunk = read(handle, remaining)\n",
            "  File \"/Users/aidanbarbieux/opt/anaconda3/envs/tf_2.4.0/lib/python3.8/multiprocessing/process.py\", line 315, in _bootstrap\n",
            "    self.run()\n",
            "KeyboardInterrupt\n",
            "Traceback (most recent call last):\n",
            "  File \"/Users/aidanbarbieux/opt/anaconda3/envs/tf_2.4.0/lib/python3.8/multiprocessing/process.py\", line 108, in run\n",
            "    self._target(*self._args, **self._kwargs)\n",
            "  File \"/Users/aidanbarbieux/opt/anaconda3/envs/tf_2.4.0/lib/python3.8/multiprocessing/pool.py\", line 114, in worker\n",
            "    task = get()\n",
            "  File \"/Users/aidanbarbieux/opt/anaconda3/envs/tf_2.4.0/lib/python3.8/multiprocessing/queues.py\", line 355, in get\n",
            "    with self._rlock:\n",
            "  File \"/Users/aidanbarbieux/opt/anaconda3/envs/tf_2.4.0/lib/python3.8/multiprocessing/synchronize.py\", line 95, in __enter__\n",
            "    return self._semlock.__enter__()\n",
            "  File \"/Users/aidanbarbieux/opt/anaconda3/envs/tf_2.4.0/lib/python3.8/multiprocessing/process.py\", line 315, in _bootstrap\n",
            "    self.run()\n",
            "KeyboardInterrupt\n",
            "  File \"/Users/aidanbarbieux/opt/anaconda3/envs/tf_2.4.0/lib/python3.8/multiprocessing/process.py\", line 108, in run\n",
            "    self._target(*self._args, **self._kwargs)\n",
            "  File \"/Users/aidanbarbieux/opt/anaconda3/envs/tf_2.4.0/lib/python3.8/multiprocessing/pool.py\", line 114, in worker\n",
            "    task = get()\n",
            "  File \"/Users/aidanbarbieux/opt/anaconda3/envs/tf_2.4.0/lib/python3.8/multiprocessing/queues.py\", line 355, in get\n",
            "    with self._rlock:\n",
            "  File \"/Users/aidanbarbieux/opt/anaconda3/envs/tf_2.4.0/lib/python3.8/multiprocessing/synchronize.py\", line 95, in __enter__\n",
            "    return self._semlock.__enter__()\n",
            "KeyboardInterrupt\n",
            "Traceback (most recent call last):\n",
            "  File \"/Users/aidanbarbieux/opt/anaconda3/envs/tf_2.4.0/lib/python3.8/multiprocessing/process.py\", line 315, in _bootstrap\n",
            "    self.run()\n",
            "  File \"/Users/aidanbarbieux/opt/anaconda3/envs/tf_2.4.0/lib/python3.8/multiprocessing/process.py\", line 108, in run\n",
            "    self._target(*self._args, **self._kwargs)\n",
            "  File \"/Users/aidanbarbieux/opt/anaconda3/envs/tf_2.4.0/lib/python3.8/multiprocessing/pool.py\", line 114, in worker\n",
            "    task = get()\n",
            "  File \"/Users/aidanbarbieux/opt/anaconda3/envs/tf_2.4.0/lib/python3.8/multiprocessing/queues.py\", line 355, in get\n",
            "    with self._rlock:\n",
            "  File \"/Users/aidanbarbieux/opt/anaconda3/envs/tf_2.4.0/lib/python3.8/multiprocessing/synchronize.py\", line 95, in __enter__\n",
            "    return self._semlock.__enter__()\n",
            "KeyboardInterrupt\n",
            "Traceback (most recent call last):\n",
            "  File \"/Users/aidanbarbieux/opt/anaconda3/envs/tf_2.4.0/lib/python3.8/multiprocessing/process.py\", line 315, in _bootstrap\n",
            "    self.run()\n",
            "  File \"/Users/aidanbarbieux/opt/anaconda3/envs/tf_2.4.0/lib/python3.8/multiprocessing/process.py\", line 108, in run\n",
            "    self._target(*self._args, **self._kwargs)\n",
            "  File \"/Users/aidanbarbieux/opt/anaconda3/envs/tf_2.4.0/lib/python3.8/multiprocessing/pool.py\", line 114, in worker\n",
            "    task = get()\n",
            "  File \"/Users/aidanbarbieux/opt/anaconda3/envs/tf_2.4.0/lib/python3.8/multiprocessing/queues.py\", line 355, in get\n",
            "    with self._rlock:\n",
            "  File \"/Users/aidanbarbieux/opt/anaconda3/envs/tf_2.4.0/lib/python3.8/multiprocessing/synchronize.py\", line 95, in __enter__\n",
            "    return self._semlock.__enter__()\n",
            "KeyboardInterrupt\n"
          ]
        },
        {
          "ename": "KeyboardInterrupt",
          "evalue": "",
          "output_type": "error",
          "traceback": [
            "\u001b[0;31m---------------------------------------------------------------------------\u001b[0m",
            "\u001b[0;31mKeyboardInterrupt\u001b[0m                         Traceback (most recent call last)",
            "Cell \u001b[0;32mIn [7], line 1\u001b[0m\n\u001b[0;32m----> 1\u001b[0m history \u001b[38;5;241m=\u001b[39m \u001b[43mpopulation\u001b[49m\u001b[38;5;241;43m.\u001b[39;49m\u001b[43mevolve\u001b[49m\u001b[43m(\u001b[49m\u001b[43mgenerations\u001b[49m\u001b[38;5;241;43m=\u001b[39;49m\u001b[38;5;241;43m64\u001b[39;49m\u001b[43m,\u001b[49m\n\u001b[1;32m      2\u001b[0m \u001b[43m                            \u001b[49m\u001b[43mfitness_function\u001b[49m\u001b[38;5;241;43m=\u001b[39;49m\u001b[43mfitness_function\u001b[49m\u001b[43m)\u001b[49m\n",
            "File \u001b[0;32m~/opt/anaconda3/envs/tf_2.4.0/lib/python3.8/site-packages/nevopy/neat/population.py:271\u001b[0m, in \u001b[0;36mNeatPopulation.evolve\u001b[0;34m(self, generations, fitness_function, callbacks, verbose, **kwargs)\u001b[0m\n\u001b[1;32m    268\u001b[0m     cb\u001b[39m.\u001b[39mon_generation_start(generation_num, generations)\n\u001b[1;32m    270\u001b[0m \u001b[39m# calculating fitness\u001b[39;00m\n\u001b[0;32m--> 271\u001b[0m fitness_results \u001b[39m=\u001b[39m \u001b[39mself\u001b[39;49m\u001b[39m.\u001b[39;49mscheduler\u001b[39m.\u001b[39;49mrun(\n\u001b[1;32m    272\u001b[0m     items\u001b[39m=\u001b[39;49m\u001b[39mself\u001b[39;49m\u001b[39m.\u001b[39;49mgenomes,\n\u001b[1;32m    273\u001b[0m     func\u001b[39m=\u001b[39;49mfitness_function\n\u001b[1;32m    274\u001b[0m )  \u001b[39m# type: Sequence[float]\u001b[39;00m\n\u001b[1;32m    276\u001b[0m \u001b[39m# assigning fitness and adjusted fitness\u001b[39;00m\n\u001b[1;32m    277\u001b[0m \u001b[39mfor\u001b[39;00m genome, fitness \u001b[39min\u001b[39;00m \u001b[39mzip\u001b[39m(\u001b[39mself\u001b[39m\u001b[39m.\u001b[39mgenomes, fitness_results):\n",
            "File \u001b[0;32m~/opt/anaconda3/envs/tf_2.4.0/lib/python3.8/site-packages/nevopy/processing/pool_processing.py:106\u001b[0m, in \u001b[0;36mPoolProcessingScheduler.run\u001b[0;34m(self, items, func)\u001b[0m\n\u001b[1;32m     79\u001b[0m \u001b[39mdef\u001b[39;00m \u001b[39mrun\u001b[39m(\u001b[39mself\u001b[39m,\n\u001b[1;32m     80\u001b[0m         items: Sequence[TProcItem],\n\u001b[1;32m     81\u001b[0m         func: Callable[[TProcItem], TProcResult]) \u001b[39m-\u001b[39m\u001b[39m>\u001b[39m List[TProcResult]:\n\u001b[1;32m     82\u001b[0m     \u001b[39m\"\"\" Processes the given items and returns a result.\u001b[39;00m\n\u001b[1;32m     83\u001b[0m \n\u001b[1;32m     84\u001b[0m \u001b[39m    Main function of the scheduler. Call it to make the scheduler manage the\u001b[39;00m\n\u001b[0;32m   (...)\u001b[0m\n\u001b[1;32m    104\u001b[0m \u001b[39m        passed as argument.\u001b[39;00m\n\u001b[1;32m    105\u001b[0m \u001b[39m    \"\"\"\u001b[39;00m\n\u001b[0;32m--> 106\u001b[0m     \u001b[39mreturn\u001b[39;00m \u001b[39mself\u001b[39;49m\u001b[39m.\u001b[39;49m_pool\u001b[39m.\u001b[39;49mmap(func, items, chunksize\u001b[39m=\u001b[39;49m\u001b[39mself\u001b[39;49m\u001b[39m.\u001b[39;49m_chunksize)\n",
            "File \u001b[0;32m~/opt/anaconda3/envs/tf_2.4.0/lib/python3.8/multiprocessing/pool.py:364\u001b[0m, in \u001b[0;36mPool.map\u001b[0;34m(self, func, iterable, chunksize)\u001b[0m\n\u001b[1;32m    359\u001b[0m \u001b[39mdef\u001b[39;00m \u001b[39mmap\u001b[39m(\u001b[39mself\u001b[39m, func, iterable, chunksize\u001b[39m=\u001b[39m\u001b[39mNone\u001b[39;00m):\n\u001b[1;32m    360\u001b[0m     \u001b[39m'''\u001b[39;00m\n\u001b[1;32m    361\u001b[0m \u001b[39m    Apply `func` to each element in `iterable`, collecting the results\u001b[39;00m\n\u001b[1;32m    362\u001b[0m \u001b[39m    in a list that is returned.\u001b[39;00m\n\u001b[1;32m    363\u001b[0m \u001b[39m    '''\u001b[39;00m\n\u001b[0;32m--> 364\u001b[0m     \u001b[39mreturn\u001b[39;00m \u001b[39mself\u001b[39;49m\u001b[39m.\u001b[39;49m_map_async(func, iterable, mapstar, chunksize)\u001b[39m.\u001b[39;49mget()\n",
            "File \u001b[0;32m~/opt/anaconda3/envs/tf_2.4.0/lib/python3.8/multiprocessing/pool.py:765\u001b[0m, in \u001b[0;36mApplyResult.get\u001b[0;34m(self, timeout)\u001b[0m\n\u001b[1;32m    764\u001b[0m \u001b[39mdef\u001b[39;00m \u001b[39mget\u001b[39m(\u001b[39mself\u001b[39m, timeout\u001b[39m=\u001b[39m\u001b[39mNone\u001b[39;00m):\n\u001b[0;32m--> 765\u001b[0m     \u001b[39mself\u001b[39;49m\u001b[39m.\u001b[39;49mwait(timeout)\n\u001b[1;32m    766\u001b[0m     \u001b[39mif\u001b[39;00m \u001b[39mnot\u001b[39;00m \u001b[39mself\u001b[39m\u001b[39m.\u001b[39mready():\n\u001b[1;32m    767\u001b[0m         \u001b[39mraise\u001b[39;00m \u001b[39mTimeoutError\u001b[39;00m\n",
            "File \u001b[0;32m~/opt/anaconda3/envs/tf_2.4.0/lib/python3.8/multiprocessing/pool.py:762\u001b[0m, in \u001b[0;36mApplyResult.wait\u001b[0;34m(self, timeout)\u001b[0m\n\u001b[1;32m    761\u001b[0m \u001b[39mdef\u001b[39;00m \u001b[39mwait\u001b[39m(\u001b[39mself\u001b[39m, timeout\u001b[39m=\u001b[39m\u001b[39mNone\u001b[39;00m):\n\u001b[0;32m--> 762\u001b[0m     \u001b[39mself\u001b[39;49m\u001b[39m.\u001b[39;49m_event\u001b[39m.\u001b[39;49mwait(timeout)\n",
            "File \u001b[0;32m~/opt/anaconda3/envs/tf_2.4.0/lib/python3.8/threading.py:558\u001b[0m, in \u001b[0;36mEvent.wait\u001b[0;34m(self, timeout)\u001b[0m\n\u001b[1;32m    556\u001b[0m signaled \u001b[39m=\u001b[39m \u001b[39mself\u001b[39m\u001b[39m.\u001b[39m_flag\n\u001b[1;32m    557\u001b[0m \u001b[39mif\u001b[39;00m \u001b[39mnot\u001b[39;00m signaled:\n\u001b[0;32m--> 558\u001b[0m     signaled \u001b[39m=\u001b[39m \u001b[39mself\u001b[39;49m\u001b[39m.\u001b[39;49m_cond\u001b[39m.\u001b[39;49mwait(timeout)\n\u001b[1;32m    559\u001b[0m \u001b[39mreturn\u001b[39;00m signaled\n",
            "File \u001b[0;32m~/opt/anaconda3/envs/tf_2.4.0/lib/python3.8/threading.py:302\u001b[0m, in \u001b[0;36mCondition.wait\u001b[0;34m(self, timeout)\u001b[0m\n\u001b[1;32m    300\u001b[0m \u001b[39mtry\u001b[39;00m:    \u001b[39m# restore state no matter what (e.g., KeyboardInterrupt)\u001b[39;00m\n\u001b[1;32m    301\u001b[0m     \u001b[39mif\u001b[39;00m timeout \u001b[39mis\u001b[39;00m \u001b[39mNone\u001b[39;00m:\n\u001b[0;32m--> 302\u001b[0m         waiter\u001b[39m.\u001b[39;49macquire()\n\u001b[1;32m    303\u001b[0m         gotit \u001b[39m=\u001b[39m \u001b[39mTrue\u001b[39;00m\n\u001b[1;32m    304\u001b[0m     \u001b[39melse\u001b[39;00m:\n",
            "\u001b[0;31mKeyboardInterrupt\u001b[0m: "
          ]
        }
      ],
      "source": [
        "history = population.evolve(generations=64,\n",
        "                            fitness_function=fitness_function)"
      ]
    },
    {
      "cell_type": "markdown",
      "metadata": {
        "id": "UNtFumSri3zq"
      },
      "source": [
        "Let's now retrieve and evaluate the population's fittest genome:"
      ]
    },
    {
      "cell_type": "code",
      "execution_count": null,
      "metadata": {
        "colab": {
          "base_uri": "https://localhost:8080/"
        },
        "id": "5x9LUNA4ixtx",
        "outputId": "16b75ef9-5660-43cf-b8d9-1588294f4968"
      },
      "outputs": [
        {
          "name": "stdout",
          "output_type": "stream",
          "text": [
            "IN: [1 1]  |  OUT: 0.0000  |  TARGET: 0\n",
            "IN: [1 0]  |  OUT: 1.0000  |  TARGET: 1\n",
            "IN: [0 1]  |  OUT: 1.0000  |  TARGET: 1\n",
            "IN: [0 0]  |  OUT: 0.0000  |  TARGET: 0\n",
            "\n",
            "Error: 3.889572962155391e-12\n"
          ]
        },
        {
          "data": {
            "text/plain": [
              "257097632498.41547"
            ]
          },
          "execution_count": 30,
          "metadata": {
            "tags": []
          },
          "output_type": "execute_result"
        }
      ],
      "source": [
        "best_genome = population.fittest()\n",
        "fitness_function(best_genome, log=True)"
      ]
    },
    {
      "cell_type": "markdown",
      "metadata": {
        "id": "2RMd156KjFg2"
      },
      "source": [
        "Not bad, huh? Let's visualize its topology:"
      ]
    },
    {
      "cell_type": "code",
      "execution_count": null,
      "metadata": {
        "colab": {
          "base_uri": "https://localhost:8080/",
          "height": 443
        },
        "id": "9i8pi82ejDtz",
        "outputId": "55eee628-e88c-49cb-e120-cc7957c4028a"
      },
      "outputs": [
        {
          "data": {
            "image/png": "[encoded data removed]",
            "text/plain": [
              "<Figure size 720x432 with 1 Axes>"
            ]
          },
          "metadata": {
            "tags": []
          },
          "output_type": "display_data"
        }
      ],
      "source": [
        "best_genome.visualize()"
      ]
    },
    {
      "cell_type": "markdown",
      "metadata": {
        "id": "2IEOoYgHkgy6"
      },
      "source": [
        "Let's now end this example by visualizing the progression of the population's fitness during the evolutionary process:"
      ]
    },
    {
      "cell_type": "code",
      "execution_count": null,
      "metadata": {
        "colab": {
          "base_uri": "https://localhost:8080/",
          "height": 374
        },
        "id": "QYdnUgNAkdq-",
        "outputId": "a28a8b72-acdf-456f-f57c-6a9b16f24acf"
      },
      "outputs": [
        {
          "data": {
            "image/png": "[encoded data removed]",
            "text/plain": [
              "<Figure size 720x432 with 1 Axes>"
            ]
          },
          "metadata": {
            "needs_background": "light",
            "tags": []
          },
          "output_type": "display_data"
        }
      ],
      "source": [
        "history.visualize()"
      ]
    }
  ],
  "metadata": {
    "colab": {
      "collapsed_sections": [],
      "name": "nevopy_xor_example.ipynb",
      "provenance": []
    },
    "kernelspec": {
      "display_name": "Python 3.8.13 ('tf_2.4.0')",
      "language": "python",
      "name": "python3"
    },
    "language_info": {
      "codemirror_mode": {
        "name": "ipython",
        "version": 3
      },
      "file_extension": ".py",
      "mimetype": "text/x-python",
      "name": "python",
      "nbconvert_exporter": "python",
      "pygments_lexer": "ipython3",
      "version": "3.8.13"
    },
    "vscode": {
      "interpreter": {
        "hash": "5592904bc02381d742d8677a7dee9dfad432ddb320dbe6e668ed13d03d50aa2a"
      }
    }
  },
  "nbformat": 4,
  "nbformat_minor": 0
}
